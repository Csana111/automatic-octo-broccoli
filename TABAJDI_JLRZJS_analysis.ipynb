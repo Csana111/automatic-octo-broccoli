{
  "nbformat": 4,
  "nbformat_minor": 0,
  "metadata": {
    "colab": {
      "provenance": []
    },
    "kernelspec": {
      "name": "python3",
      "display_name": "Python 3"
    },
    "language_info": {
      "name": "python"
    }
  },
  "cells": [
    {
      "cell_type": "code",
      "execution_count": null,
      "metadata": {
        "id": "ZwvVYjowk92Q"
      },
      "outputs": [],
      "source": [
        "import sweetviz as sweetviz\n",
        "import pandas as pd\n",
        "import seaborn as sns\n",
        "import matplotlib.pyplot as plt\n",
        "import re"
      ]
    },
    {
      "cell_type": "code",
      "source": [
        "def sweetviz_report(df, target):\n",
        "    sv = sweetviz.analyze(df, target)\n",
        "    sv.show_html('EDA.html')\n",
        "\n",
        "\n",
        "def plot_correlation_matrix(df):\n",
        "    corr = df.corr()\n",
        "    plt.figure(figsize=(10, 10))\n",
        "    sns.heatmap(corr, cmap='coolwarm')\n",
        "    plt.savefig('plots/correlation/corr_matrix.png')\n",
        "    plt.close()\n",
        "\n",
        "def plot_correlation_map(df, target):\n",
        "    reslt = target['score']\n",
        "    corr = df.corrwith(reslt)\n",
        "    plt.figure(figsize=(10, 10))\n",
        "    sns.heatmap(corr.to_frame(), cmap='coolwarm')\n",
        "    # print features with correlation > 0.5\n",
        "    print(corr[abs(corr) > 0.5].sort_values(ascending=False))\n",
        "    plt.savefig('plots/correlation/corr_map.png')\n",
        "    plt.close()\n",
        "\n",
        "\n",
        "def plot_distribution(df, var, target, **kwargs):\n",
        "    row = kwargs.get('row', None)\n",
        "    col = kwargs.get('col', None)\n",
        "    # add score to df\n",
        "    df = pd.concat([df, target['score']], axis=1)\n",
        "    facet = sns.FacetGrid(df, hue='score', aspect=4, row=row, col=col)\n",
        "    facet.map(sns.kdeplot, var, fill=True, warn_singular=False)\n",
        "    facet.set(xlim=(0, df[var].max()))\n",
        "    facet.add_legend()\n",
        "    safe_var = re.sub('[^A-Za-z0-9]+', '_', var)\n",
        "    plt.savefig(f'plots/distribution/{safe_var}.png')\n",
        "    plt.close()"
      ],
      "metadata": {
        "id": "wx3BvTd2U0Bu"
      },
      "execution_count": null,
      "outputs": []
    },
    {
      "cell_type": "code",
      "source": [
        "if __name__ == \"__main__\":\n",
        "    train = pd.read_csv('pc_X_train.csv')\n",
        "    target = pd.read_csv('pc_y_train.csv')\n",
        "    plot_correlation_matrix(train)\n",
        "    plot_correlation_map(train, target)\n",
        "    for col in train.columns:\n",
        "        plot_distribution(train, col, target)"
      ],
      "metadata": {
        "id": "ibYT0_DfU4uK"
      },
      "execution_count": null,
      "outputs": []
    }
  ]
}